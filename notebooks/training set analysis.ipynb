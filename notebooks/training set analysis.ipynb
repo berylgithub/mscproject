{
 "cells": [
  {
   "cell_type": "code",
   "execution_count": 1,
   "metadata": {
    "collapsed": false
   },
   "outputs": [
    {
     "name": "stdout",
     "output_type": "stream",
     "text": [
      "/Users/williamferreira/PycharmProjects/mscproject/src\n"
     ]
    }
   ],
   "source": [
    "cd ../src"
   ]
  },
  {
   "cell_type": "code",
   "execution_count": 2,
   "metadata": {
    "collapsed": false
   },
   "outputs": [],
   "source": [
    "import numpy as np\n",
    "import pandas as pd\n",
    "\n",
    "from model.utils import get_dataset, split_data"
   ]
  },
  {
   "cell_type": "code",
   "execution_count": 3,
   "metadata": {
    "collapsed": false
   },
   "outputs": [],
   "source": [
    "training_data = get_dataset('../data/url-versions-2015-06-14-clean-train.csv')\n",
    "X, y = split_data(training_data)"
   ]
  },
  {
   "cell_type": "code",
   "execution_count": 4,
   "metadata": {
    "collapsed": false
   },
   "outputs": [],
   "source": [
    "from model.classifiers.lr_predictors import LogitPredictor, CompoundPredictor"
   ]
  },
  {
   "cell_type": "code",
   "execution_count": 5,
   "metadata": {
    "collapsed": false
   },
   "outputs": [],
   "source": [
    "from model.baseline.transforms import (\n",
    "    HedgingWordsTransform, \n",
    "    QuestionMarkTransform, \n",
    "    RefutingWordsTransform,\n",
    "    RefutingWordsTransform,\n",
    "    InteractionTransform,\n",
    "    NegationOfRefutingWordsTransform,\n",
    ")"
   ]
  },
  {
   "cell_type": "code",
   "execution_count": 6,
   "metadata": {
    "collapsed": false
   },
   "outputs": [],
   "source": [
    "from model.ext.transforms import Word2VecTransform, HungarianAlignmentTransform, NegationAlignmentTransform"
   ]
  },
  {
   "cell_type": "code",
   "execution_count": 7,
   "metadata": {
    "collapsed": false
   },
   "outputs": [],
   "source": [
    "predictor = LogitPredictor([HedgingWordsTransform, QuestionMarkTransform, RefutingWordsTransform, InteractionTransform,\n",
    "                           Word2VecTransform, NegationOfRefutingWordsTransform, HungarianAlignmentTransform, \n",
    "                            NegationAlignmentTransform])"
   ]
  },
  {
   "cell_type": "code",
   "execution_count": 8,
   "metadata": {
    "collapsed": false
   },
   "outputs": [
    {
     "name": "stdout",
     "output_type": "stream",
     "text": [
      "No parse data for  b229cb30-bd34-11e4-b073-ed15c88bfa1e\n",
      "No parse data for  b229cb30-bd34-11e4-b073-ed15c88bfa1e\n"
     ]
    },
    {
     "data": {
      "text/plain": [
       "LogitPredictor(transforms=[<class 'model.baseline.transforms.HedgingWordsTransform'>, <class 'model.baseline.transforms.QuestionMarkTransform'>, <class 'model.baseline.transforms.RefutingWordsTransform'>, <class 'model.baseline.transforms.InteractionTransform'>, <class 'model.ext.transforms.Word2VecTransform'>, <class 'model.baseline.transforms.NegationOfRefutingWordsTransform'>, <class 'model.ext.transforms.HungarianAlignmentTransform'>, <class 'model.ext.transforms.NegationAlignmentTransform'>])"
      ]
     },
     "execution_count": 8,
     "metadata": {},
     "output_type": "execute_result"
    }
   ],
   "source": [
    "predictor.fit(X, y)"
   ]
  },
  {
   "cell_type": "code",
   "execution_count": 9,
   "metadata": {
    "collapsed": false
   },
   "outputs": [
    {
     "name": "stdout",
     "output_type": "stream",
     "text": [
      "No parse data for  b229cb30-bd34-11e4-b073-ed15c88bfa1e\n",
      "No parse data for  b229cb30-bd34-11e4-b073-ed15c88bfa1e\n"
     ]
    }
   ],
   "source": [
    "y_hat = predictor.predict(X)"
   ]
  },
  {
   "cell_type": "code",
   "execution_count": 10,
   "metadata": {
    "collapsed": false
   },
   "outputs": [],
   "source": [
    "Z = X.copy()\n",
    "Z['y'] = y\n",
    "Z['y_hat'] = y_hat"
   ]
  },
  {
   "cell_type": "code",
   "execution_count": 11,
   "metadata": {
    "collapsed": false
   },
   "outputs": [],
   "source": [
    "Z[Z.y == Z.y_hat][['claimHeadline', 'articleHeadline', 'y', 'y_hat', 'articleId', 'claimId']].to_csv('../data/url-versions-2015-06-14-clean-train-correct-baseline.csv')\n",
    "Z[Z.y != Z.y_hat][['claimHeadline', 'articleHeadline', 'y', 'y_hat', 'articleId', 'claimId']].to_csv('../data/url-versions-2015-06-14-clean-train-errors-baseline.csv')"
   ]
  },
  {
   "cell_type": "code",
   "execution_count": 12,
   "metadata": {
    "collapsed": false
   },
   "outputs": [],
   "source": [
    "from sklearn.metrics import precision_score, recall_score, f1_score, accuracy_score"
   ]
  },
  {
   "cell_type": "code",
   "execution_count": 13,
   "metadata": {
    "collapsed": false
   },
   "outputs": [
    {
     "data": {
      "text/plain": [
       "0.70997123681687435"
      ]
     },
     "execution_count": 13,
     "metadata": {},
     "output_type": "execute_result"
    }
   ],
   "source": [
    "accuracy_score(y, y_hat)"
   ]
  },
  {
   "cell_type": "code",
   "execution_count": 17,
   "metadata": {
    "collapsed": false
   },
   "outputs": [
    {
     "data": {
      "text/plain": [
       "for          1019\n",
       "observing     808\n",
       "against       343\n",
       "dtype: int64"
      ]
     },
     "execution_count": 17,
     "metadata": {},
     "output_type": "execute_result"
    }
   ],
   "source": [
    "pd.Series(y).value_counts()"
   ]
  },
  {
   "cell_type": "code",
   "execution_count": 18,
   "metadata": {
    "collapsed": false
   },
   "outputs": [
    {
     "data": {
      "text/plain": [
       "(2170,)"
      ]
     },
     "execution_count": 18,
     "metadata": {},
     "output_type": "execute_result"
    }
   ],
   "source": [
    "y.shape"
   ]
  },
  {
   "cell_type": "code",
   "execution_count": 19,
   "metadata": {
    "collapsed": false
   },
   "outputs": [
    {
     "data": {
      "text/plain": [
       "for          0.469585\n",
       "observing    0.372350\n",
       "against      0.158065\n",
       "dtype: float64"
      ]
     },
     "execution_count": 19,
     "metadata": {},
     "output_type": "execute_result"
    }
   ],
   "source": [
    "pd.Series(y).value_counts() / pd.Series(y).value_counts().sum()"
   ]
  },
  {
   "cell_type": "code",
   "execution_count": null,
   "metadata": {
    "collapsed": false
   },
   "outputs": [],
   "source": []
  }
 ],
 "metadata": {
  "kernelspec": {
   "display_name": "Python 2",
   "language": "python",
   "name": "python2"
  },
  "language_info": {
   "codemirror_mode": {
    "name": "ipython",
    "version": 2
   },
   "file_extension": ".py",
   "mimetype": "text/x-python",
   "name": "python",
   "nbconvert_exporter": "python",
   "pygments_lexer": "ipython2",
   "version": "2.7.10"
  }
 },
 "nbformat": 4,
 "nbformat_minor": 0
}
