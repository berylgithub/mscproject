{
 "cells": [
  {
   "cell_type": "code",
   "execution_count": 1,
   "metadata": {
    "collapsed": false
   },
   "outputs": [
    {
     "name": "stdout",
     "output_type": "stream",
     "text": [
      "/Users/williamferreira/Dropbox/mscproject/src\n"
     ]
    }
   ],
   "source": [
    "cd ../src"
   ]
  },
  {
   "cell_type": "code",
   "execution_count": 2,
   "metadata": {
    "collapsed": true
   },
   "outputs": [],
   "source": [
    "import numpy as np"
   ]
  },
  {
   "cell_type": "code",
   "execution_count": 3,
   "metadata": {
    "collapsed": true
   },
   "outputs": [],
   "source": [
    "from model.classifiers.lr_predictors import LogitPredictor, CompoundPredictor\n",
    "from model.utils import get_dataset, split_data, RunCV, run_test\n",
    "\n",
    "from model.baseline.transforms import (\n",
    "    RefutingWordsTransform,\n",
    "    QuestionMarkTransform,\n",
    "    HedgingWordsTransform,\n",
    "    InteractionTransform,\n",
    "    NegationOfRefutingWordsTransform,\n",
    "    BoWTransform,\n",
    "    PolarityTransform,\n",
    "    BrownClusterPairTransform\n",
    ")\n",
    "\n",
    "from model.ext.transforms import (\n",
    "    AlignedPPDBSemanticTransform,\n",
    "    NegationAlignmentTransform,\n",
    "    Word2VecSimilaritySemanticTransform,\n",
    "    DependencyRootDistanceTransform,\n",
    "    SVOTransform\n",
    ")"
   ]
  },
  {
   "cell_type": "code",
   "execution_count": 4,
   "metadata": {
    "collapsed": true
   },
   "outputs": [],
   "source": [
    "transforms = {\n",
    "        'BoW': lambda: BoWTransform(),\n",
    "        'BoW-Ref': RefutingWordsTransform,\n",
    "        'BoW-Hed': HedgingWordsTransform,\n",
    "        'Q': QuestionMarkTransform,\n",
    "        'I': InteractionTransform,\n",
    "        'Sim-Algn-W2V': Word2VecSimilaritySemanticTransform,\n",
    "        'Sim-Algn-PPDB': AlignedPPDBSemanticTransform,\n",
    "        'BoW-Neg-Ref': NegationOfRefutingWordsTransform,\n",
    "        'Neg-Algn': NegationAlignmentTransform,\n",
    "        'Root-Dist': DependencyRootDistanceTransform,\n",
    "        'SVO': SVOTransform,\n",
    "        'Pol': PolarityTransform,\n",
    "        'Brown': BrownClusterPairTransform\n",
    "    }"
   ]
  },
  {
   "cell_type": "code",
   "execution_count": 5,
   "metadata": {
    "collapsed": true
   },
   "outputs": [],
   "source": [
    "inc_transforms = [\n",
    "        'Q',                # 1             1\n",
    "        'BoW-Hed',          # 1-36         35\n",
    "        'BoW-Ref',          # 37-48         12\n",
    "        'I',                # 49-1272       1,224\n",
    "        'BoW',              # 1273-1772     500\n",
    "#         'Sim-Algn-W2V',     # 1773-1773     1\n",
    "        'Sim-Algn-PPDB',    # 1774-1774     1\n",
    "        'Root-Dist',        # 1775-1776     2\n",
    "        'Neg-Algn',         # 1777-1779     3\n",
    "        'SVO',              # 1780-1788     9\n",
    "        ]"
   ]
  },
  {
   "cell_type": "code",
   "execution_count": 6,
   "metadata": {
    "collapsed": true
   },
   "outputs": [],
   "source": [
    "predictor = LogitPredictor"
   ]
  },
  {
   "cell_type": "code",
   "execution_count": 7,
   "metadata": {
    "collapsed": true
   },
   "outputs": [],
   "source": [
    "train_data = get_dataset('url-versions-2015-06-14-clean-train.csv')\n",
    "X, y = split_data(train_data)\n",
    "test_data = get_dataset('url-versions-2015-06-14-clean-test.csv')"
   ]
  },
  {
   "cell_type": "code",
   "execution_count": 8,
   "metadata": {
    "collapsed": false
   },
   "outputs": [
    {
     "name": "stdout",
     "output_type": "stream",
     "text": [
      ">> Running against test data <<\n",
      "\n",
      "Confusion matrix:\n",
      "=================\n",
      "           for  against  observing\n",
      "for        198       11         39\n",
      "against     10       72         11\n",
      "observing   52       10        106\n",
      "\n",
      "Measures:\n",
      "=========\n",
      "accuracy: 0.7387\n",
      "\n",
      "Per class:\n",
      "            accuracy  precision     recall         F1\n",
      "for        0.7799607  0.7615385  0.7983871  0.7795276\n",
      "against    0.9174853  0.7741935  0.7741935  0.7741935\n",
      "observing  0.7799607  0.6794872  0.6309524   0.654321\n"
     ]
    },
    {
     "name": "stderr",
     "output_type": "stream",
     "text": [
      "model/ext/transforms.py:113: UnicodeWarning: Unicode equal comparison failed to convert both arguments to Unicode - interpreting them as being unequal\n",
      "  if e in SVOTransform._entailment_map.keys() and x == w]\n"
     ]
    }
   ],
   "source": [
    "p = predictor([transforms[t] for t in inc_transforms])\n",
    "test_score = run_test(X, y, test_data, p, display=True)"
   ]
  },
  {
   "cell_type": "code",
   "execution_count": 9,
   "metadata": {
    "collapsed": false
   },
   "outputs": [],
   "source": [
    "feature_sizes = [transforms[t]().fit(X).transform(X).shape[1] for t in inc_transforms]"
   ]
  },
  {
   "cell_type": "code",
   "execution_count": 10,
   "metadata": {
    "collapsed": false
   },
   "outputs": [],
   "source": [
    "boundaries = np.hstack(([0], np.cumsum(feature_sizes)))"
   ]
  },
  {
   "cell_type": "code",
   "execution_count": 11,
   "metadata": {
    "collapsed": false
   },
   "outputs": [],
   "source": [
    "feature_boundaries = dict(tuple(zip(zip(boundaries[:-1], boundaries[1:]), inc_transforms)))"
   ]
  },
  {
   "cell_type": "code",
   "execution_count": 12,
   "metadata": {
    "collapsed": false
   },
   "outputs": [
    {
     "data": {
      "text/plain": [
       "{(0, 1): 'Q',\n",
       " (1, 36): 'BoW-Hed',\n",
       " (36, 48): 'BoW-Ref',\n",
       " (48, 1272): 'I',\n",
       " (1272, 1772): 'BoW',\n",
       " (1772, 1773): 'Sim-Algn-PPDB',\n",
       " (1773, 1775): 'Root-Dist',\n",
       " (1775, 1778): 'Neg-Algn',\n",
       " (1778, 1787): 'SVO'}"
      ]
     },
     "execution_count": 12,
     "metadata": {},
     "output_type": "execute_result"
    }
   ],
   "source": [
    "feature_boundaries"
   ]
  },
  {
   "cell_type": "code",
   "execution_count": 13,
   "metadata": {
    "collapsed": true
   },
   "outputs": [],
   "source": [
    "def in_range(x, r):\n",
    "    return r[0] <= x < r[1]"
   ]
  },
  {
   "cell_type": "code",
   "execution_count": 14,
   "metadata": {
    "collapsed": false
   },
   "outputs": [],
   "source": [
    "def map_important_features(f):\n",
    "    d = {}\n",
    "    for i in f:\n",
    "        for r, t in feature_boundaries.items():\n",
    "            if in_range(i, r):\n",
    "#                 print t, i\n",
    "                d.setdefault(t, set()).add(i)\n",
    "    return d"
   ]
  },
  {
   "cell_type": "code",
   "execution_count": 15,
   "metadata": {
    "collapsed": false
   },
   "outputs": [
    {
     "data": {
      "text/plain": [
       "array(['against', 'for', 'observing'], dtype=object)"
      ]
     },
     "execution_count": 15,
     "metadata": {},
     "output_type": "execute_result"
    }
   ],
   "source": [
    "p.classifier.classes_"
   ]
  },
  {
   "cell_type": "code",
   "execution_count": 24,
   "metadata": {
    "collapsed": false
   },
   "outputs": [],
   "source": [
    "important_features = np.where(p.classifier.coef_[1, :] > 0)[0]"
   ]
  },
  {
   "cell_type": "code",
   "execution_count": 25,
   "metadata": {
    "collapsed": false
   },
   "outputs": [
    {
     "data": {
      "text/plain": [
       "['SVO', 'Neg-Algn', 'I', 'BoW', 'Sim-Algn-PPDB', 'BoW-Hed', 'Root-Dist']"
      ]
     },
     "execution_count": 25,
     "metadata": {},
     "output_type": "execute_result"
    }
   ],
   "source": [
    "map_important_features(important_features).keys()"
   ]
  },
  {
   "cell_type": "code",
   "execution_count": 166,
   "metadata": {
    "collapsed": true
   },
   "outputs": [],
   "source": [
    "bowt = BoWTransform()"
   ]
  },
  {
   "cell_type": "code",
   "execution_count": 168,
   "metadata": {
    "collapsed": false
   },
   "outputs": [
    {
     "data": {
      "text/plain": [
       "<2086x500 sparse matrix of type '<type 'numpy.int64'>'\n",
       "\twith 15858 stored elements in Compressed Sparse Row format>"
      ]
     },
     "execution_count": 168,
     "metadata": {},
     "output_type": "execute_result"
    }
   ],
   "source": [
    "bowt.fit(X).transform(X)"
   ]
  },
  {
   "cell_type": "code",
   "execution_count": 170,
   "metadata": {
    "collapsed": false
   },
   "outputs": [
    {
     "data": {
      "text/plain": [
       "{u'000': 0,\n",
       " u'10': 1,\n",
       " u'100': 2,\n",
       " u'12': 3,\n",
       " u'12 inch': 4,\n",
       " u'2015': 5,\n",
       " u'300': 6,\n",
       " u'500': 7,\n",
       " u'abdel': 8,\n",
       " u'about': 9,\n",
       " u'abu': 10,\n",
       " u'abu bakr': 11,\n",
       " u'accidentally': 12,\n",
       " u'afghan': 13,\n",
       " u'afghan soldiers': 14,\n",
       " u'after': 15,\n",
       " u'after he': 16,\n",
       " u'against': 17,\n",
       " u'air': 18,\n",
       " u'airport': 19,\n",
       " u'airstrike': 20,\n",
       " u'airstrikes': 21,\n",
       " u'al': 22,\n",
       " u'al baghdadi': 23,\n",
       " u'all': 24,\n",
       " u'alleged': 25,\n",
       " u'allegedly': 26,\n",
       " u'amazon': 27,\n",
       " u'american': 28,\n",
       " u'an': 29,\n",
       " u'and': 30,\n",
       " u'angry': 31,\n",
       " u'ankles': 32,\n",
       " u'app': 33,\n",
       " u'apple': 34,\n",
       " u'apple watch': 35,\n",
       " u'are': 36,\n",
       " u'arrest': 37,\n",
       " u'arrested': 38,\n",
       " u'as': 39,\n",
       " u'at': 40,\n",
       " u'at least': 41,\n",
       " u'attack': 42,\n",
       " u'audio': 43,\n",
       " u'baby': 44,\n",
       " u'back': 45,\n",
       " u'baghdadi': 46,\n",
       " u'bakr': 47,\n",
       " u'bakr al': 48,\n",
       " u'bale': 49,\n",
       " u'bank': 50,\n",
       " u'bank hank': 51,\n",
       " u'banksy': 52,\n",
       " u'batmobile': 53,\n",
       " u'battery': 54,\n",
       " u'battery life': 55,\n",
       " u'be': 56,\n",
       " u'bear': 57,\n",
       " u'bear attack': 58,\n",
       " u'beats': 59,\n",
       " u'beats music': 60,\n",
       " u'because': 61,\n",
       " u'been': 62,\n",
       " u'before': 63,\n",
       " u'beheaded': 64,\n",
       " u'beheading': 65,\n",
       " u'beheading of': 66,\n",
       " u'being': 67,\n",
       " u'bibeau': 68,\n",
       " u'bieber': 69,\n",
       " u'big': 70,\n",
       " u'big bank': 71,\n",
       " u'biopic': 72,\n",
       " u'biopsy': 73,\n",
       " u'birth': 74,\n",
       " u'body': 75,\n",
       " u'boko': 76,\n",
       " u'boko haram': 77,\n",
       " u'border': 78,\n",
       " u'born': 79,\n",
       " u'boy': 80,\n",
       " u'breast': 81,\n",
       " u'brian': 82,\n",
       " u'brian williams': 83,\n",
       " u'british': 84,\n",
       " u'brown': 85,\n",
       " u'brown shooting': 86,\n",
       " u'but': 87,\n",
       " u'buy': 88,\n",
       " u'by': 89,\n",
       " u'camera': 90,\n",
       " u'can': 91,\n",
       " u'canada': 92,\n",
       " u'canadian': 93,\n",
       " u'canadian border': 94,\n",
       " u'capital': 95,\n",
       " u'captured': 96,\n",
       " u'castro': 97,\n",
       " u'cat': 98,\n",
       " u'caught': 99,\n",
       " u'ceasefire': 100,\n",
       " u'cheating': 101,\n",
       " u'cheese': 102,\n",
       " u'chief': 103,\n",
       " u'chops': 104,\n",
       " u'chops off': 105,\n",
       " u'christian': 106,\n",
       " u'christian bale': 107,\n",
       " u'christmas': 108,\n",
       " u'city': 109,\n",
       " u'claim': 110,\n",
       " u'claims': 111,\n",
       " u'claims to': 112,\n",
       " u'cnn': 113,\n",
       " u'comcast': 114,\n",
       " u'coming': 115,\n",
       " u'confirms': 116,\n",
       " u'contracted': 117,\n",
       " u'contracted ebola': 118,\n",
       " u'could': 119,\n",
       " u'crab': 120,\n",
       " u'crabzilla': 121,\n",
       " u'cut': 122,\n",
       " u'cuts': 123,\n",
       " u'day': 124,\n",
       " u'days': 125,\n",
       " u'dead': 126,\n",
       " u'death': 127,\n",
       " u'denies': 128,\n",
       " u'did': 129,\n",
       " u'did not': 130,\n",
       " u'died': 131,\n",
       " u'dies': 132,\n",
       " u'display': 133,\n",
       " u'do': 134,\n",
       " u'doctor': 135,\n",
       " u'doctor took': 136,\n",
       " u'dog': 137,\n",
       " u'down': 138,\n",
       " u'during': 139,\n",
       " u'ebola': 140,\n",
       " u'edition': 141,\n",
       " u'emwazi': 142,\n",
       " u'expansion': 143,\n",
       " u'eye': 144,\n",
       " u'fake': 145,\n",
       " u'family': 146,\n",
       " u'features': 147,\n",
       " u'female': 148,\n",
       " u'fence': 149,\n",
       " u'fence jumper': 150,\n",
       " u'ferguson': 151,\n",
       " u'fidel': 152,\n",
       " u'fighters': 153,\n",
       " u'fire': 154,\n",
       " u'fired': 155,\n",
       " u'first': 156,\n",
       " u'five': 157,\n",
       " u'foley': 158,\n",
       " u'for': 159,\n",
       " u'found': 160,\n",
       " u'from': 161,\n",
       " u'from the': 162,\n",
       " u'gang': 163,\n",
       " u'gender': 164,\n",
       " u'get': 165,\n",
       " u'gets': 166,\n",
       " u'giant': 167,\n",
       " u'girl': 168,\n",
       " u'girlfriend': 169,\n",
       " u'girls': 170,\n",
       " u'gives': 171,\n",
       " u'god': 172,\n",
       " u'gold': 173,\n",
       " u'gold apple': 174,\n",
       " u'google': 175,\n",
       " u'got': 176,\n",
       " u'government': 177,\n",
       " u'grave': 178,\n",
       " u'had': 179,\n",
       " u'haines': 180,\n",
       " u'hank': 181,\n",
       " u'haram': 182,\n",
       " u'has': 183,\n",
       " u'have': 184,\n",
       " u'have been': 185,\n",
       " u'hbo': 186,\n",
       " u'he': 187,\n",
       " u'health': 188,\n",
       " u'her': 189,\n",
       " u'hewlett': 190,\n",
       " u'hewlett packard': 191,\n",
       " u'him': 192,\n",
       " u'himself': 193,\n",
       " u'his': 194,\n",
       " u'his penis': 195,\n",
       " u'hoax': 196,\n",
       " u'homeless': 197,\n",
       " u'homeless man': 198,\n",
       " u'hostage': 199,\n",
       " u'house': 200,\n",
       " u'how': 201,\n",
       " u'husband': 202,\n",
       " u'identified': 203,\n",
       " u'identified as': 204,\n",
       " u'in': 205,\n",
       " u'in scotland': 206,\n",
       " u'in syria': 207,\n",
       " u'in talks': 208,\n",
       " u'in the': 209,\n",
       " u'in us': 210,\n",
       " u'inch': 211,\n",
       " u'inch macbook': 212,\n",
       " u'internet': 213,\n",
       " u'into': 214,\n",
       " u'ios': 215,\n",
       " u'iphone': 216,\n",
       " u'iraq': 217,\n",
       " u'iraqi': 218,\n",
       " u'is': 219,\n",
       " u'is not': 220,\n",
       " u'isis': 221,\n",
       " u'isis fighters': 222,\n",
       " u'isis leader': 223,\n",
       " u'isis militants': 224,\n",
       " u'islamic': 225,\n",
       " u'islamic state': 226,\n",
       " u'it': 227,\n",
       " u'it is': 228,\n",
       " u'its': 229,\n",
       " u'james': 230,\n",
       " u'james foley': 231,\n",
       " u'jihadi': 232,\n",
       " u'jihadi john': 233,\n",
       " u'joan': 234,\n",
       " u'joan rivers': 235,\n",
       " u'jobs': 236,\n",
       " u'john': 237,\n",
       " u'jong': 238,\n",
       " u'jong un': 239,\n",
       " u'journalist': 240,\n",
       " u'jumper': 241,\n",
       " u'just': 242,\n",
       " u'justin': 243,\n",
       " u'justin bieber': 244,\n",
       " u'kfc': 245,\n",
       " u'kidnapped': 246,\n",
       " u'killed': 247,\n",
       " u'killed in': 248,\n",
       " u'kills': 249,\n",
       " u'kim': 250,\n",
       " u'kim jong': 251,\n",
       " u'korea': 252,\n",
       " u'korean': 253,\n",
       " u'launch': 254,\n",
       " u'leader': 255,\n",
       " u'leader abu': 256,\n",
       " u'least': 257,\n",
       " u'lebanon': 258,\n",
       " u'letter': 259,\n",
       " u'life': 260,\n",
       " u'london': 261,\n",
       " u'macbook': 262,\n",
       " u'macbook air': 263,\n",
       " u'made': 264,\n",
       " u'make': 265,\n",
       " u'male': 266,\n",
       " u'man': 267,\n",
       " u'march': 268,\n",
       " u'marijuana': 269,\n",
       " u'mass': 270,\n",
       " u'may': 271,\n",
       " u'may be': 272,\n",
       " u'mcdonald': 273,\n",
       " u'media': 274,\n",
       " u'men': 275,\n",
       " u'meteorite': 276,\n",
       " u'mexican': 277,\n",
       " u'mexico': 278,\n",
       " u'michael': 279,\n",
       " u'michael brown': 280,\n",
       " u'michael phelps': 281,\n",
       " u'michael zehaf': 282,\n",
       " u'microsoft': 283,\n",
       " u'militants': 284,\n",
       " u'million': 285,\n",
       " u'missing': 286,\n",
       " u'mob': 287,\n",
       " u'mohammed': 288,\n",
       " u'mohammed emwazi': 289,\n",
       " u'more': 290,\n",
       " u'mother': 291,\n",
       " u'music': 292,\n",
       " u'named': 293,\n",
       " u'near': 294,\n",
       " u'new': 295,\n",
       " u'news': 296,\n",
       " u'next': 297,\n",
       " u'nhl': 298,\n",
       " u'nicaragua': 299,\n",
       " u'nigeria': 300,\n",
       " u'no': 301,\n",
       " u'north': 302,\n",
       " u'north korea': 303,\n",
       " u'north korean': 304,\n",
       " u'not': 305,\n",
       " u'now': 306,\n",
       " u'nun': 307,\n",
       " u'obama': 308,\n",
       " u'of': 309,\n",
       " u'of michael': 310,\n",
       " u'of the': 311,\n",
       " u'off': 312,\n",
       " u'official': 313,\n",
       " u'officials': 314,\n",
       " u'old': 315,\n",
       " u'on': 316,\n",
       " u'on the': 317,\n",
       " u'one': 318,\n",
       " u'only': 319,\n",
       " u'open': 320,\n",
       " u'ottawa': 321,\n",
       " u'out': 322,\n",
       " u'out of': 323,\n",
       " u'over': 324,\n",
       " u'own': 325,\n",
       " u'packard': 326,\n",
       " u'parents': 327,\n",
       " u'path': 328,\n",
       " u'penis': 329,\n",
       " u'penis after': 330,\n",
       " u'people': 331,\n",
       " u'phelps': 332,\n",
       " u'photo': 333,\n",
       " u'plans': 334,\n",
       " u'plans to': 335,\n",
       " u'play': 336,\n",
       " u'play steve': 337,\n",
       " u'police': 338,\n",
       " u'pregnant': 339,\n",
       " u'priest': 340,\n",
       " u'pumpkin': 341,\n",
       " u'pumpkin spice': 342,\n",
       " u'rapper': 343,\n",
       " u'rat': 344,\n",
       " u'real': 345,\n",
       " u'recording': 346,\n",
       " u'release': 347,\n",
       " u'report': 348,\n",
       " u'reported': 349,\n",
       " u'reportedly': 350,\n",
       " u'reports': 351,\n",
       " u'restaurant': 352,\n",
       " u'reveals': 353,\n",
       " u'rivers': 354,\n",
       " u'rivers doctor': 355,\n",
       " u'rogen': 356,\n",
       " u'rumor': 357,\n",
       " u'rumors': 358,\n",
       " u'russian': 359,\n",
       " u'safes': 360,\n",
       " u'said': 361,\n",
       " u'samsung': 362,\n",
       " u'saudi': 363,\n",
       " u'say': 364,\n",
       " u'says': 365,\n",
       " u'school': 366,\n",
       " u'scorpion': 367,\n",
       " u'scotland': 368,\n",
       " u'security': 369,\n",
       " u'selfie': 370,\n",
       " u'sell': 371,\n",
       " u'service': 372,\n",
       " u'set': 373,\n",
       " u'seth': 374,\n",
       " u'seth rogen': 375,\n",
       " u'seven': 376,\n",
       " u'sex': 377,\n",
       " u'she': 378,\n",
       " u'she was': 379,\n",
       " u'shooting': 380,\n",
       " u'shot': 381,\n",
       " u'show': 382,\n",
       " u'shows': 383,\n",
       " u'sister': 384,\n",
       " u'site': 385,\n",
       " u'small': 386,\n",
       " u'so': 387,\n",
       " u'social': 388,\n",
       " u'soldier': 389,\n",
       " u'soldiers': 390,\n",
       " u'son': 391,\n",
       " u'sotloff': 392,\n",
       " u'source': 393,\n",
       " u'spice': 394,\n",
       " u'split': 395,\n",
       " u'stainless': 396,\n",
       " u'stainless steel': 397,\n",
       " u'star': 398,\n",
       " u'state': 399,\n",
       " u'steel': 400,\n",
       " u'steve': 401,\n",
       " u'steve jobs': 402,\n",
       " u'steven': 403,\n",
       " u'steven sotloff': 404,\n",
       " u'still': 405,\n",
       " u'stolen': 406,\n",
       " u'stop': 407,\n",
       " u'store': 408,\n",
       " u'stores': 409,\n",
       " u'story': 410,\n",
       " u'streaming': 411,\n",
       " u'strike': 412,\n",
       " u'student': 413,\n",
       " u'students': 414,\n",
       " u'sugarhill': 415,\n",
       " u'sugarhill gang': 416,\n",
       " u'surgery': 417,\n",
       " u'suspect': 418,\n",
       " u'syria': 419,\n",
       " u'taliban': 420,\n",
       " u'talks': 421,\n",
       " u'teacher': 422,\n",
       " u'texas': 423,\n",
       " u'than': 424,\n",
       " u'that': 425,\n",
       " u'the': 426,\n",
       " u'the apple': 427,\n",
       " u'their': 428,\n",
       " u'there': 429,\n",
       " u'they': 430,\n",
       " u'third': 431,\n",
       " u'third breast': 432,\n",
       " u'this': 433,\n",
       " u'threatened': 434,\n",
       " u'three': 435,\n",
       " u'through': 436,\n",
       " u'time': 437,\n",
       " u'to': 438,\n",
       " u'to be': 439,\n",
       " u'to buy': 440,\n",
       " u'to get': 441,\n",
       " u'to have': 442,\n",
       " u'to open': 443,\n",
       " u'to play': 444,\n",
       " u'to show': 445,\n",
       " u'took': 446,\n",
       " u'took selfie': 447,\n",
       " u'trip': 448,\n",
       " u'trying': 449,\n",
       " u'trying to': 450,\n",
       " u'tv': 451,\n",
       " u'twitter': 452,\n",
       " u'two': 453,\n",
       " u'un': 454,\n",
       " u'under': 455,\n",
       " u'up': 456,\n",
       " u'update': 457,\n",
       " u'updated': 458,\n",
       " u'us': 459,\n",
       " u'use': 460,\n",
       " u'vegas': 461,\n",
       " u'video': 462,\n",
       " u'viral': 463,\n",
       " u'vogue': 464,\n",
       " u'wants': 465,\n",
       " u'war': 466,\n",
       " u'was': 467,\n",
       " u'watch': 468,\n",
       " u'watch edition': 469,\n",
       " u'watch to': 470,\n",
       " u'watch will': 471,\n",
       " u'way': 472,\n",
       " u'we': 473,\n",
       " u'weapons': 474,\n",
       " u'week': 475,\n",
       " u'were': 476,\n",
       " u'what': 477,\n",
       " u'when': 478,\n",
       " u'while': 479,\n",
       " u'white': 480,\n",
       " u'white house': 481,\n",
       " u'who': 482,\n",
       " u'wife': 483,\n",
       " u'will': 484,\n",
       " u'will be': 485,\n",
       " u'williams': 486,\n",
       " u'with': 487,\n",
       " u'woman': 488,\n",
       " u'worker': 489,\n",
       " u'world': 490,\n",
       " u'wozniak': 491,\n",
       " u'year': 492,\n",
       " u'year old': 493,\n",
       " u'years': 494,\n",
       " u'yemen': 495,\n",
       " u'you': 496,\n",
       " u'your': 497,\n",
       " u'zehaf': 498,\n",
       " u'zehaf bibeau': 499}"
      ]
     },
     "execution_count": 170,
     "metadata": {},
     "output_type": "execute_result"
    }
   ],
   "source": [
    "bowt.cv.vocabulary_"
   ]
  },
  {
   "cell_type": "code",
   "execution_count": 181,
   "metadata": {
    "collapsed": false
   },
   "outputs": [
    {
     "data": {
      "text/plain": [
       "353"
      ]
     },
     "execution_count": 181,
     "metadata": {},
     "output_type": "execute_result"
    }
   ],
   "source": [
    "sum([len(np.where(p.classifier.coef_[i, :] > 0)[0]) for i in range(3)])"
   ]
  },
  {
   "cell_type": "code",
   "execution_count": null,
   "metadata": {
    "collapsed": true
   },
   "outputs": [],
   "source": []
  }
 ],
 "metadata": {
  "kernelspec": {
   "display_name": "Python 2",
   "language": "python",
   "name": "python2"
  },
  "language_info": {
   "codemirror_mode": {
    "name": "ipython",
    "version": 2
   },
   "file_extension": ".py",
   "mimetype": "text/x-python",
   "name": "python",
   "nbconvert_exporter": "python",
   "pygments_lexer": "ipython2",
   "version": "2.7.10"
  }
 },
 "nbformat": 4,
 "nbformat_minor": 0
}
